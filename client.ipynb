{
 "cells": [
  {
   "cell_type": "code",
   "execution_count": 1,
   "metadata": {},
   "outputs": [],
   "source": [
    "%load_ext autoreload\n",
    "%autoreload 2"
   ]
  },
  {
   "cell_type": "code",
   "execution_count": 2,
   "metadata": {},
   "outputs": [],
   "source": [
    "from transformers import AutoTokenizer, AutoModelForCausalLM\n",
    "import torch\n",
    "\n",
    "gpt_model = AutoModelForCausalLM.from_pretrained(\"gpt2-medium\", device_map=\"auto\")\n",
    "tokenizer = AutoTokenizer.from_pretrained(\"gpt2-medium\")"
   ]
  },
  {
   "cell_type": "code",
   "execution_count": 3,
   "metadata": {},
   "outputs": [],
   "source": [
    "from latent import *\n",
    "model = LatentLM(\"gpt2-medium\", model=gpt_model, tokenizer=tokenizer)"
   ]
  },
  {
   "cell_type": "code",
   "execution_count": 4,
   "metadata": {},
   "outputs": [
    {
     "name": "stdout",
     "output_type": "stream",
     "text": [
      "tensor([[0, 0, 0, 0, 0, 1, 1],\n",
      "        [0, 1, 1, 1, 1, 1, 1]], device='cuda:0')\n",
      "tensor([[0, 0, 0, 0, 0, 0, 1],\n",
      "        [0, 0, 1, 2, 3, 4, 5]], device='cuda:0')\n",
      "tensor([[0.0000, 0.0000, 0.0000, 0.0000, 0.0000, 0.0010, 0.0013],\n",
      "        [0.0000, 0.0010, 0.0019, 0.0018, 0.0017, 0.0013, 0.0019]],\n",
      "       device='cuda:0', grad_fn=<MeanBackward1>)\n",
      "[[0, 0, 0, 0, 0, 50256, 2437], [0, 50256, 2061, 389, 345, 510, 284]]\n",
      "mean hidden_states tensor([-0.2388, -0.1979], device='cuda:0', grad_fn=<MeanBackward1>)\n",
      "torch.Size([2, 50257]) tensor([-86.9224, -99.5600], device='cuda:0', grad_fn=<MeanBackward1>)\n"
     ]
    },
    {
     "data": {
      "text/plain": [
       "['How to', 'What are you up to?']"
      ]
     },
     "execution_count": 4,
     "metadata": {},
     "output_type": "execute_result"
    }
   ],
   "source": [
    "r = model([\"How\", \"What are you up to\"])\n",
    "r.discrete()"
   ]
  },
  {
   "cell_type": "code",
   "execution_count": 5,
   "metadata": {},
   "outputs": [
    {
     "data": {
      "text/plain": [
       "<gpt2-medium.layer(-1).LatentTensor[2, 7] <-> 'How[TOK]'\n",
       "                                              'What are you up to[TOK]'"
      ]
     },
     "execution_count": 5,
     "metadata": {},
     "output_type": "execute_result"
    }
   ],
   "source": [
    "r.layer(-1)"
   ]
  },
  {
   "cell_type": "code",
   "execution_count": 16,
   "metadata": {},
   "outputs": [
    {
     "data": {
      "text/plain": [
       "<gpt2-xl.LatentTensor[49, 2, 6] <-> 'How[TOK]'\n",
       "                                    'What are you up to[TOK]'"
      ]
     },
     "execution_count": 16,
     "metadata": {},
     "output_type": "execute_result"
    }
   ],
   "source": [
    "r"
   ]
  },
  {
   "cell_type": "code",
   "execution_count": 6,
   "metadata": {},
   "outputs": [
    {
     "name": "stdout",
     "output_type": "stream",
     "text": [
      "torch.Size([2, 50257]) tensor([-86.9224, -99.5600], device='cuda:0', grad_fn=<MeanBackward1>)\n",
      "tensor([[0, 0, 0, 0, 0, 1, 1, 1],\n",
      "        [0, 1, 1, 1, 1, 1, 1, 1]], device='cuda:0')\n",
      "tensor([[0, 0, 0, 0, 0, 0, 1, 2],\n",
      "        [0, 0, 1, 2, 3, 4, 5, 6]], device='cuda:0')\n",
      "tensor([[0.0000, 0.0000, 0.0000, 0.0000, 0.0000, 0.0010, 0.0013, 0.0019],\n",
      "        [0.0000, 0.0010, 0.0019, 0.0018, 0.0017, 0.0013, 0.0019, 0.0014]],\n",
      "       device='cuda:0', grad_fn=<MeanBackward1>)\n",
      "[[0, 0, 0, 0, 0, 50256, 2437, 284], [0, 50256, 2061, 389, 345, 510, 284, 30]]\n",
      "mean hidden_states tensor([-0.2591, -0.2352], device='cuda:0', grad_fn=<MeanBackward1>)\n",
      "<gpt2-medium.LatentTensor[25, 2, 8] <-> 'How to[TOK]'\n",
      "                                        'What are you up to?[TOK]'\n",
      "\n"
     ]
    }
   ],
   "source": [
    "print(r.complete())"
   ]
  },
  {
   "cell_type": "code",
   "execution_count": 17,
   "metadata": {},
   "outputs": [
    {
     "data": {
      "text/plain": [
       "<gpt2-xl.LatentTensor[49, 2, 7] <-> 'How to[TOK]'\n",
       "                                    'What are you up to?[TOK]'"
      ]
     },
     "execution_count": 17,
     "metadata": {},
     "output_type": "execute_result"
    }
   ],
   "source": [
    "r.complete()"
   ]
  },
  {
   "cell_type": "code",
   "execution_count": 9,
   "metadata": {},
   "outputs": [
    {
     "data": {
      "text/plain": [
       "tensor([[ -5.6751,  -8.6013, -13.2165,  ..., -18.4128, -12.4559, -10.6140],\n",
       "        [ -5.5568, -10.8951, -11.8829,  ..., -19.0959, -19.4955,  -9.3850]],\n",
       "       grad_fn=<LogSoftmaxBackward0>)"
      ]
     },
     "execution_count": 9,
     "metadata": {},
     "output_type": "execute_result"
    }
   ],
   "source": [
    "r.distribution()"
   ]
  },
  {
   "cell_type": "code",
   "execution_count": 10,
   "metadata": {},
   "outputs": [
    {
     "data": {
      "text/plain": [
       "<gpt2-medium.layer(-1).LatentTensor[2, 6] <-> 'How[TOK]'\n",
       "                                              'What are you up to[TOK]'"
      ]
     },
     "execution_count": 10,
     "metadata": {},
     "output_type": "execute_result"
    }
   ],
   "source": [
    "r.layer(-1)"
   ]
  },
  {
   "cell_type": "code",
   "execution_count": 7,
   "metadata": {},
   "outputs": [
    {
     "data": {
      "text/plain": [
       "<gpt2-medium.LatentTensor[25, 1, 12] <-> 'The boat is red. The color of the boat is[TOK]'"
      ]
     },
     "execution_count": 7,
     "metadata": {},
     "output_type": "execute_result"
    }
   ],
   "source": [
    "color = \"red\"\n",
    "y = model(f\"The boat is {color}. The color of the boat is\", name='hard_color')\n",
    "y\n"
   ]
  },
  {
   "cell_type": "code",
   "execution_count": null,
   "metadata": {},
   "outputs": [],
   "source": [
    "colors = [\"red\", \"blue\"]\n",
    "soft_color = model([[\"The boat is \", colors, \".\"]], name='soft_color')[-2]\n",
    "soft_color = adapter(soft_color)"
   ]
  },
  {
   "cell_type": "code",
   "execution_count": 8,
   "metadata": {},
   "outputs": [
    {
     "data": {
      "text/plain": [
       "[49, 2, 1, 1600]"
      ]
     },
     "execution_count": 8,
     "metadata": {},
     "output_type": "execute_result"
    }
   ],
   "source": [
    "soft_color.shape"
   ]
  },
  {
   "cell_type": "code",
   "execution_count": 43,
   "metadata": {},
   "outputs": [],
   "source": [
    "from latent import *\n",
    "\n",
    "class Adapter(LatentModule):\n",
    "    def __init__(self):\n",
    "        super().__init__()\n",
    "        \n",
    "        self.lin1 = torch.nn.Linear(1024, 8)\n",
    "        self.lin2 = torch.nn.Linear(8, 1024)\n",
    "\n",
    "    def forward(self, x):\n",
    "        x = self.lin1(x)\n",
    "        x = self.lin2(x)\n",
    "        return x\n",
    "    \n",
    "adapter = Adapter().to(model.device)"
   ]
  },
  {
   "cell_type": "code",
   "execution_count": 44,
   "metadata": {},
   "outputs": [],
   "source": [
    "class DirectPrompt(torch.nn.Module):\n",
    "    def forward(self, color):\n",
    "        return model([[\"The boat is \", color, \". The color of the boat is\"]], name='hard_color')\n",
    "direct = DirectPrompt()\n",
    "\n",
    "class SoftPrompt(torch.nn.Module):\n",
    "    def forward(self, color):\n",
    "        soft_color = model([[\"The boat is \", color, \".\"]], name='soft_color')[-2]\n",
    "        soft_color = adapter(soft_color)\n",
    "        return model([[soft_color, \"The color of the boat is\"]], name='soft_color')\n",
    "soft = SoftPrompt()"
   ]
  },
  {
   "cell_type": "code",
   "execution_count": 45,
   "metadata": {},
   "outputs": [
    {
     "data": {
      "text/plain": [
       "(<gpt2-medium.LatentTensor[25, 1, 13] <-> 'The boat is red. The color of the boat is[TOK]',\n",
       " <gpt2-medium.LatentTensor[25, 1, 8] <-> '{Adapter(soft_color)}The color of the boat is[TOK]')"
      ]
     },
     "execution_count": 45,
     "metadata": {},
     "output_type": "execute_result"
    }
   ],
   "source": [
    "direct(\"red\"), soft(\"red\")"
   ]
  },
  {
   "cell_type": "code",
   "execution_count": 18,
   "metadata": {},
   "outputs": [
    {
     "data": {
      "text/plain": [
       "LatentEqualityObjective:\n",
       " - <gpt2-medium.layer(-1).LatentTensor[1, 1] <-> ' is[TOK]'\n",
       "\n",
       " - <gpt2-medium.layer(-1).LatentTensor[1, 1] <-> ' is[TOK]'"
      ]
     },
     "execution_count": 18,
     "metadata": {},
     "output_type": "execute_result"
    }
   ],
   "source": [
    "from latent import *\n",
    "\n",
    "def color_match(colors: List[str]):\n",
    "    x = soft(colors)\n",
    "    y = direct(colors)\n",
    "    return x.layer(-1)[-1] == y.layer(-1)[-1]\n",
    "color_match([\"red\"])"
   ]
  },
  {
   "cell_type": "code",
   "execution_count": 17,
   "metadata": {},
   "outputs": [
    {
     "data": {
      "text/plain": [
       "['The boat is pink. The color of the boat is pink']"
      ]
     },
     "execution_count": 17,
     "metadata": {},
     "output_type": "execute_result"
    }
   ],
   "source": [
    "color = \"pink\"\n",
    "direct(\"pink\").discrete()"
   ]
  },
  {
   "cell_type": "code",
   "execution_count": 16,
   "metadata": {},
   "outputs": [
    {
     "name": "stdout",
     "output_type": "stream",
     "text": [
      "['apricot', 'aqua', 'black', 'blue', 'brown', 'cardinal', 'champagne', 'chocolate', 'cinnabar', 'cinnamon', 'cobalt', 'copper', 'coral', 'corn', 'cream', 'crimson', 'dandelion', 'denim', 'emerald', 'eggplant', 'gamboge', 'gold', 'goldenrod', 'green', 'grey', 'indigo', 'jade', 'khaki', 'lavender', 'lemon', 'lime', 'mustard', 'olive', 'orchid', 'peach', 'pink', 'plum', 'puce', 'pumpkin', 'purple', 'red', 'rose', 'ruby', 'salmon', 'shocking-pink', 'silver', 'smalt', 'tan', 'tenné-(tawny)', 'thistle', 'tomato', 'violet', 'wheat', 'white', 'yellow']\n"
     ]
    }
   ],
   "source": [
    "colors = []\n",
    "with open(\"working_colors.txt\") as f:\n",
    "    for color in f:\n",
    "        colors.append(color.strip())\n",
    "print(colors)"
   ]
  },
  {
   "cell_type": "code",
   "execution_count": 14,
   "metadata": {},
   "outputs": [
    {
     "data": {
      "text/plain": [
       "<gpt2-medium.LatentTensor[25, 2, 15] <-> 'The boat is orchid. The color of the boat is a[TOK]'\n",
       "                                         'The boat is olive. The color of the boat is olive[TOK]'"
      ]
     },
     "execution_count": 14,
     "metadata": {},
     "output_type": "execute_result"
    }
   ],
   "source": [
    "direct([\"orchid\", \"olive\"]).complete()"
   ]
  },
  {
   "cell_type": "code",
   "execution_count": 15,
   "metadata": {},
   "outputs": [
    {
     "data": {
      "text/plain": [
       "<gpt2-medium.LatentTensor[25, 1, 14] <-> 'The boat is olive. The color of the boat is olive[TOK]'"
      ]
     },
     "execution_count": 15,
     "metadata": {},
     "output_type": "execute_result"
    }
   ],
   "source": [
    "direct([\"olive\"]).complete()"
   ]
  },
  {
   "cell_type": "code",
   "execution_count": null,
   "metadata": {},
   "outputs": [],
   "source": [
    "test = colors[:30]\n",
    "batch_size = 2\n",
    "n = 0\n",
    "for i in range(0, len(test), batch_size):\n",
    "    batch = test[i:i+batch_size]\n",
    "    n += LatentModule.token_match(color_match(batch)).sum().item()\n",
    "    print(batch, direct(batch).discrete(), soft(batch).discrete())\n",
    "    print(n)"
   ]
  },
  {
   "cell_type": "code",
   "execution_count": 50,
   "metadata": {
    "tags": []
   },
   "outputs": [
    {
     "name": "stdout",
     "output_type": "stream",
     "text": [
      "https://app.neptune.ai/lbeurerkellner/lat/e/LAT-1\n"
     ]
    },
    {
     "name": "stderr",
     "output_type": "stream",
     "text": [
      "Epoch 100/100, loss=4.5265 Loss: 4.5265 Train accuracy: 23.33% Test accuracy: 8.00%: : 400it [01:40,  3.97it/s]                                                                   "
     ]
    },
    {
     "name": "stdout",
     "output_type": "stream",
     "text": [
      "Shutting down background jobs, please wait a moment...\n",
      "Done!\n",
      "Waiting for the remaining 12 operations to synchronize with Neptune. Do not kill this process.\n"
     ]
    },
    {
     "name": "stderr",
     "output_type": "stream",
     "text": [
      "\n"
     ]
    },
    {
     "name": "stdout",
     "output_type": "stream",
     "text": [
      "All 12 operations synced, thanks for waiting!\n",
      "Explore the metadata in the Neptune app:\n",
      "https://app.neptune.ai/lbeurerkellner/lat/e/LAT-1/metadata\n"
     ]
    }
   ],
   "source": [
    "import neptune\n",
    "def experiment(loss_fct, lr=1e-4, epochs=10):\n",
    "    run = neptune.init_run(\n",
    "        project=\"lbeurerkellner/lat\",\n",
    "        api_token=\"eyJhcGlfYWRkcmVzcyI6Imh0dHBzOi8vYXBwLm5lcHR1bmUuYWkiLCJhcGlfdXJsIjoiaHR0cHM6Ly9hcHAubmVwdHVuZS5haSIsImFwaV9rZXkiOiI4ZDk4ZjE0ZS0wM2M1LTRkZmItODcxMC02OGYxOGFmZWM3OGYifQ==\",\n",
    "    )  # your credentials\n",
    "    \n",
    "    params = {\"learning_rate\": lr, \"loss_fct\": loss_fct, \"epochs\": epochs}\n",
    "    run[\"parameters\"] = params\n",
    "\n",
    "    def reporter(epoch, train_acc, test_acc, loss):\n",
    "        run[\"train/loss\"].append(loss)\n",
    "        run[\"train/accuracy\"].append(train_acc)\n",
    "        run[\"test/accuracy\"].append(test_acc)\n",
    "    \n",
    "    train, test = colors[:30], colors[30:]\n",
    "    train_acc, test_acc = adapter.fit(color_match, train, epochs=epochs, lr=1e-4, loss_fct=loss_fct, test=test, epoch_callback=reporter)\n",
    "    \n",
    "    run.stop()\n",
    "\n",
    "for lf in [\"mse\", \"crossentropy\", \"cosine\", \"mse+cosine\", \"mse+crossentropy\", \"cosine+crossentropy\", \"cosine+crossentropy+mse\"]:\n",
    "    for lr in [1e-3, 1e-4, 1e-5]:\n",
    "        experiment(lf, lr=lr, epochs=1000)"
   ]
  },
  {
   "cell_type": "code",
   "execution_count": null,
   "metadata": {
    "jupyter": {
     "source_hidden": true
    },
    "tags": []
   },
   "outputs": [],
   "source": []
  }
 ],
 "metadata": {
  "kernelspec": {
   "display_name": "Python 3 (ipykernel)",
   "language": "python",
   "name": "python3"
  },
  "language_info": {
   "codemirror_mode": {
    "name": "ipython",
    "version": 3
   },
   "file_extension": ".py",
   "mimetype": "text/x-python",
   "name": "python",
   "nbconvert_exporter": "python",
   "pygments_lexer": "ipython3",
   "version": "3.10.11"
  }
 },
 "nbformat": 4,
 "nbformat_minor": 4
}
