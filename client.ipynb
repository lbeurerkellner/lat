{
 "cells": [
  {
   "cell_type": "code",
   "execution_count": 1,
   "metadata": {},
   "outputs": [],
   "source": [
    "%load_ext autoreload\n",
    "%autoreload 2"
   ]
  },
  {
   "cell_type": "code",
   "execution_count": 13,
   "metadata": {},
   "outputs": [],
   "source": [
    "from transformers import AutoTokenizer, AutoModelForCausalLM\n",
    "\n",
    "gpt_model = AutoModelForCausalLM.from_pretrained(\"gpt2\")\n",
    "tokenizer = AutoTokenizer.from_pretrained(\"gpt2\")"
   ]
  },
  {
   "cell_type": "code",
   "execution_count": 151,
   "metadata": {},
   "outputs": [
    {
     "data": {
      "text/plain": [
       "lat.Latent[13, 3] <-> 'Hello how are'"
      ]
     },
     "execution_count": 151,
     "metadata": {},
     "output_type": "execute_result"
    }
   ],
   "source": [
    "from latent import *\n",
    "\n",
    "model = LatentLM.from_pretrained('gpt2', model=gpt_model, tokenizer=tokenizer)\n",
    "# model = LatentLM.from_pretrained('gpt2')\n",
    "text = \"Hello how\"\n",
    "x = model(\"Hello how are\")\n",
    "\n",
    "x\n"
   ]
  },
  {
   "cell_type": "code",
   "execution_count": 457,
   "metadata": {},
   "outputs": [],
   "source": [
    "colors = [\"red\", \"blue\", \"orange\", \"black\", \"white\", \"pink\"]\n",
    "latent_colors = [model(f\"The boat is {c}. The color of the boat is\") for c in colors]\n",
    "\n",
    "# [lc[:4] for lc in latent_colors]"
   ]
  },
  {
   "cell_type": "code",
   "execution_count": 514,
   "metadata": {},
   "outputs": [],
   "source": [
    "from latent import *\n",
    "class Adapter(LatentModule):\n",
    "    def __init__(self):\n",
    "        super().__init__()\n",
    "        \n",
    "        self.lin1 = torch.nn.Linear(768, 768)\n",
    "        self.lin2 = torch.nn.Linear(768, 768)\n",
    "\n",
    "    def forward(self, x):\n",
    "        x = self.lin1(x)\n",
    "        x = torch.relu(x)\n",
    "        x = self.lin2(x)\n",
    "        return x\n",
    "    \n",
    "adapter = Adapter()"
   ]
  },
  {
   "cell_type": "code",
   "execution_count": 517,
   "metadata": {},
   "outputs": [
    {
     "ename": "AttributeError",
     "evalue": "'Adapter' object has no attribute 'inputs'",
     "output_type": "error",
     "traceback": [
      "\u001b[0;31m---------------------------------------------------------------------------\u001b[0m",
      "\u001b[0;31mAttributeError\u001b[0m                            Traceback (most recent call last)",
      "\u001b[1;32m/Users/luca/Developer/lat/client.ipynb Cell 6\u001b[0m line \u001b[0;36m2\n\u001b[1;32m      <a href='vscode-notebook-cell:/Users/luca/Developer/lat/client.ipynb#X20sZmlsZQ%3D%3D?line=0'>1</a>\u001b[0m soft_color \u001b[39m=\u001b[39m model(\u001b[39mf\u001b[39m\u001b[39m\"\u001b[39m\u001b[39mThe boat is red.\u001b[39m\u001b[39m\"\u001b[39m, name\u001b[39m=\u001b[39m\u001b[39m'\u001b[39m\u001b[39msoft_color\u001b[39m\u001b[39m'\u001b[39m)[\u001b[39m-\u001b[39m\u001b[39m2\u001b[39m]\n\u001b[0;32m----> <a href='vscode-notebook-cell:/Users/luca/Developer/lat/client.ipynb#X20sZmlsZQ%3D%3D?line=1'>2</a>\u001b[0m soft_color \u001b[39m=\u001b[39m adapter(soft_color)\n\u001b[1;32m      <a href='vscode-notebook-cell:/Users/luca/Developer/lat/client.ipynb#X20sZmlsZQ%3D%3D?line=2'>3</a>\u001b[0m model(soft_color, \u001b[39m\"\u001b[39m\u001b[39mThe color of the boat is\u001b[39m\u001b[39m\"\u001b[39m)\u001b[39m.\u001b[39mcomplete()\n",
      "File \u001b[0;32m~/Developer/lat/latent.py:118\u001b[0m, in \u001b[0;36mLatentModule.__call__\u001b[0;34m(self, latent, *args, **kwargs)\u001b[0m\n\u001b[1;32m    116\u001b[0m activations \u001b[39m=\u001b[39m \u001b[39mself\u001b[39m\u001b[39m.\u001b[39mforward(latent\u001b[39m.\u001b[39mactivations, \u001b[39m*\u001b[39margs, \u001b[39m*\u001b[39m\u001b[39m*\u001b[39mkwargs)\n\u001b[1;32m    117\u001b[0m name \u001b[39m=\u001b[39m \u001b[39mf\u001b[39m\u001b[39m\"\u001b[39m\u001b[39m{\u001b[39;00m\u001b[39mself\u001b[39m\u001b[39m.\u001b[39mname\u001b[39m}\u001b[39;00m\u001b[39m(\u001b[39m\u001b[39m{\u001b[39;00mlatent\u001b[39m.\u001b[39mname\u001b[39m}\u001b[39;00m\u001b[39m)\u001b[39m\u001b[39m\"\u001b[39m\n\u001b[0;32m--> 118\u001b[0m \u001b[39mreturn\u001b[39;00m Latent(activations, \u001b[39mself\u001b[39;49m\u001b[39m.\u001b[39;49minputs, \u001b[39mself\u001b[39m\u001b[39m.\u001b[39mprompt, \u001b[39mself\u001b[39m\u001b[39m.\u001b[39mmodel, name\u001b[39m=\u001b[39mname)\n",
      "File \u001b[0;32m~/Developer/miniconda3/envs/lmql/lib/python3.10/site-packages/torch/nn/modules/module.py:1614\u001b[0m, in \u001b[0;36mModule.__getattr__\u001b[0;34m(self, name)\u001b[0m\n\u001b[1;32m   1612\u001b[0m     \u001b[39mif\u001b[39;00m name \u001b[39min\u001b[39;00m modules:\n\u001b[1;32m   1613\u001b[0m         \u001b[39mreturn\u001b[39;00m modules[name]\n\u001b[0;32m-> 1614\u001b[0m \u001b[39mraise\u001b[39;00m \u001b[39mAttributeError\u001b[39;00m(\u001b[39m\"\u001b[39m\u001b[39m'\u001b[39m\u001b[39m{}\u001b[39;00m\u001b[39m'\u001b[39m\u001b[39m object has no attribute \u001b[39m\u001b[39m'\u001b[39m\u001b[39m{}\u001b[39;00m\u001b[39m'\u001b[39m\u001b[39m\"\u001b[39m\u001b[39m.\u001b[39mformat(\n\u001b[1;32m   1615\u001b[0m     \u001b[39mtype\u001b[39m(\u001b[39mself\u001b[39m)\u001b[39m.\u001b[39m\u001b[39m__name__\u001b[39m, name))\n",
      "\u001b[0;31mAttributeError\u001b[0m: 'Adapter' object has no attribute 'inputs'"
     ]
    }
   ],
   "source": [
    "soft_color = model(f\"The boat is red.\", name='soft_color')[-2]\n",
    "soft_color = adapter(soft_color)\n",
    "model(soft_color, \"The color of the boat is\").complete()"
   ]
  }
 ],
 "metadata": {
  "kernelspec": {
   "display_name": "lmql",
   "language": "python",
   "name": "python3"
  },
  "language_info": {
   "codemirror_mode": {
    "name": "ipython",
    "version": 3
   },
   "file_extension": ".py",
   "mimetype": "text/x-python",
   "name": "python",
   "nbconvert_exporter": "python",
   "pygments_lexer": "ipython3",
   "version": "3.10.10"
  },
  "orig_nbformat": 4
 },
 "nbformat": 4,
 "nbformat_minor": 2
}
